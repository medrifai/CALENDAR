{
 "cells": [
  {
   "cell_type": "code",
   "execution_count": 1,
   "id": "ecc331f4",
   "metadata": {},
   "outputs": [],
   "source": [
    "import calendar"
   ]
  },
  {
   "cell_type": "code",
   "execution_count": 5,
   "id": "3a4a27e0",
   "metadata": {},
   "outputs": [
    {
     "name": "stdout",
     "output_type": "stream",
     "text": [
      "     July 2022\n",
      "Mo Tu We Th Fr Sa Su\n",
      "             1  2  3\n",
      " 4  5  6  7  8  9 10\n",
      "11 12 13 14 15 16 17\n",
      "18 19 20 21 22 23 24\n",
      "25 26 27 28 29 30 31\n",
      "\n"
     ]
    }
   ],
   "source": [
    "year = 2022\n",
    "month = 7\n",
    "print(calendar.month(year,month))"
   ]
  },
  {
   "cell_type": "code",
   "execution_count": 19,
   "id": "9b09f39d",
   "metadata": {},
   "outputs": [
    {
     "name": "stdout",
     "output_type": "stream",
     "text": [
      "                                 2022\n",
      "\n",
      "      January                  February                  March\n",
      "Mo Tu We Th Fr Sa Su     Mo Tu We Th Fr Sa Su     Mo Tu We Th Fr Sa Su\n",
      "                1  2         1  2  3  4  5  6         1  2  3  4  5  6\n",
      " 3  4  5  6  7  8  9      7  8  9 10 11 12 13      7  8  9 10 11 12 13\n",
      "10 11 12 13 14 15 16     14 15 16 17 18 19 20     14 15 16 17 18 19 20\n",
      "17 18 19 20 21 22 23     21 22 23 24 25 26 27     21 22 23 24 25 26 27\n",
      "24 25 26 27 28 29 30     28                       28 29 30 31\n",
      "31\n",
      "\n",
      "       April                     May                      June\n",
      "Mo Tu We Th Fr Sa Su     Mo Tu We Th Fr Sa Su     Mo Tu We Th Fr Sa Su\n",
      "             1  2  3                        1            1  2  3  4  5\n",
      " 4  5  6  7  8  9 10      2  3  4  5  6  7  8      6  7  8  9 10 11 12\n",
      "11 12 13 14 15 16 17      9 10 11 12 13 14 15     13 14 15 16 17 18 19\n",
      "18 19 20 21 22 23 24     16 17 18 19 20 21 22     20 21 22 23 24 25 26\n",
      "25 26 27 28 29 30        23 24 25 26 27 28 29     27 28 29 30\n",
      "                         30 31\n",
      "\n",
      "        July                    August                 September\n",
      "Mo Tu We Th Fr Sa Su     Mo Tu We Th Fr Sa Su     Mo Tu We Th Fr Sa Su\n",
      "             1  2  3      1  2  3  4  5  6  7               1  2  3  4\n",
      " 4  5  6  7  8  9 10      8  9 10 11 12 13 14      5  6  7  8  9 10 11\n",
      "11 12 13 14 15 16 17     15 16 17 18 19 20 21     12 13 14 15 16 17 18\n",
      "18 19 20 21 22 23 24     22 23 24 25 26 27 28     19 20 21 22 23 24 25\n",
      "25 26 27 28 29 30 31     29 30 31                 26 27 28 29 30\n",
      "\n",
      "      October                  November                 December\n",
      "Mo Tu We Th Fr Sa Su     Mo Tu We Th Fr Sa Su     Mo Tu We Th Fr Sa Su\n",
      "                1  2         1  2  3  4  5  6               1  2  3  4\n",
      " 3  4  5  6  7  8  9      7  8  9 10 11 12 13      5  6  7  8  9 10 11\n",
      "10 11 12 13 14 15 16     14 15 16 17 18 19 20     12 13 14 15 16 17 18\n",
      "17 18 19 20 21 22 23     21 22 23 24 25 26 27     19 20 21 22 23 24 25\n",
      "24 25 26 27 28 29 30     28 29 30                 26 27 28 29 30 31\n",
      "31\n",
      "\n"
     ]
    }
   ],
   "source": [
    "print (calendar.calendar(2022, 2, 1,5))"
   ]
  },
  {
   "cell_type": "code",
   "execution_count": 32,
   "id": "dd2d4951",
   "metadata": {},
   "outputs": [
    {
     "name": "stdout",
     "output_type": "stream",
     "text": [
      "     July 2022\n",
      "Mo Tu We Th Fr Sa Su\n",
      "             1  2  3\n",
      " 4  5  6  7  8  9 10\n",
      "11 12 13 14 15 16 17\n",
      "18 19 20 21 22 23 24\n",
      "25 26 27 28 29 30 31\n",
      "\n"
     ]
    }
   ],
   "source": [
    "c = calendar.TextCalendar(calendar.MONDAY)\n",
    "Str = c.formatmonth(2022,7)\n",
    "print(Str)"
   ]
  }
 ],
 "metadata": {
  "kernelspec": {
   "display_name": "Python 3 (ipykernel)",
   "language": "python",
   "name": "python3"
  },
  "language_info": {
   "codemirror_mode": {
    "name": "ipython",
    "version": 3
   },
   "file_extension": ".py",
   "mimetype": "text/x-python",
   "name": "python",
   "nbconvert_exporter": "python",
   "pygments_lexer": "ipython3",
   "version": "3.9.7"
  }
 },
 "nbformat": 4,
 "nbformat_minor": 5
}
